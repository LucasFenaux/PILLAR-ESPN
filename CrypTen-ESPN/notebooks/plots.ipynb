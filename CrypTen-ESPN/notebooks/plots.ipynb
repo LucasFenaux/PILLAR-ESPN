{
 "cells": [
  {
   "cell_type": "code",
   "execution_count": 203,
   "outputs": [],
   "source": [
    "import os.path\n",
    "from scipy import interpolate\n",
    "import yaml\n",
    "import matplotlib.pyplot as plt\n",
    "from matplotlib.transforms import Bbox\n",
    "import numpy as np"
   ],
   "metadata": {
    "collapsed": false
   }
  },
  {
   "cell_type": "code",
   "execution_count": 204,
   "outputs": [],
   "source": [
    "datasets = [\"cifar10\", \"cifar100\", \"imagenet\", \"relus\"]\n",
    "# configs = [\"default12\", \"crypten12\", \"gforce\", \"coinn\", \"honeybadger12\", \"espn12\"]\n",
    "names = {\n",
    "    \"honeybadger12\": 'Honeybadger',\n",
    "    \"gforce\":\"GForce\",\n",
    "    \"default12\": \"CryptGPU\",\n",
    "    \"espn12\":'ESPN',\n",
    "    \"coinn\":\"COINN\",\n",
    "    \"crypten12\": \"CrypTen Poly\"\n",
    "}\n",
    "delay_range = np.arange(0, 0.055, 0.005)\n",
    "colors = {\n",
    "    \"honeybadger12\": '#e41a1c',\n",
    "    \"gforce\":\"#377eb8\",\n",
    "    \"default12\": \"#4daf4a\",\n",
    "    \"espn12\":'#984ea3',\n",
    "    \"coinn\":\"#ff7f00\",\n",
    "    \"crypten12\": \"#000000\"\n",
    "}\n",
    "plot_order = {\"coinn\":1,\"gforce\":2,\"default12\":0,\"crypten12\":3,\"espn12\":4,\"honeybadger12\":5}"
   ],
   "metadata": {
    "collapsed": false
   }
  },
  {
   "cell_type": "code",
   "execution_count": 205,
   "outputs": [],
   "source": [
    "def plot(x, y, yl, yh, color, style, label, set_scale):\n",
    "    plt.rcParams.update({'font.size': 18})\n",
    "    plt.rcParams['pdf.fonttype'] = 42\n",
    "    plt.rcParams['ps.fonttype'] = 42\n",
    "    # Convert size in mm to inches\n",
    "    figsize_in_mm = (160, 140)\n",
    "    figsize_in_inch = (figsize_in_mm[0] / 25.4, figsize_in_mm[1] / 25.4)\n",
    "\n",
    "    # Set default figure size\n",
    "    plt.rcParams['figure.figsize'] = figsize_in_inch\n",
    "    plt.plot(x, y, style, color=color, label=label)\n",
    "    if set_scale:\n",
    "        ymax = yh.max()\n",
    "    else:\n",
    "        _, _, _, ymax = plt.axis()\n",
    "        ymax = max(ymax, y[1])\n",
    "    plt.ylim(0, ymax)\n",
    "    if yl is not None and yh is not None:\n",
    "        plt.fill_between(x, yl, yh, color=color, alpha=0.3)\n",
    "\n",
    "def plot_result(result_file, color, label, linestyle=\"-\", set_scale = False):\n",
    "    if os.path.exists(result_file):\n",
    "        with open(result_file, \"r\") as f:\n",
    "            results = yaml.safe_load(f)\n",
    "        fmean = interpolate.interp1d(results['delays'], results['run_time'], fill_value='extrapolate')\n",
    "        flow = interpolate.interp1d(results['delays'], results['run_time_95conf_lower'], fill_value='extrapolate')\n",
    "        fupp = interpolate.interp1d(results['delays'], results['run_time_95conf_upper'], fill_value='extrapolate')\n",
    "        plot(2000*delay_range, fmean(delay_range), flow(delay_range), fupp(delay_range), color, linestyle, label=label, set_scale=set_scale)\n",
    "    else:\n",
    "        print(result_file + \" is not found\")\n",
    "\n",
    "def extract_names_reorder(results):\n",
    "    _names = []\n",
    "    for result in results:\n",
    "        name = result.split(\"/\")[-1].split('.')[0][:-7]\n",
    "        _names.append(name)\n",
    "    results = [pair for pair in sorted(zip(_names, results), key=lambda pair: plot_order[pair[0]])]\n",
    "    return results\n",
    "\n",
    "def plot_results(results, plot_path, reject=None, add_device=False, scale_setter = \"default12\"):\n",
    "    to_plot = extract_names_reorder(results)\n",
    "    if reject is not None:\n",
    "        to_plot = [(x,y) for x,y in to_plot if x not in reject]\n",
    "    for name, result in to_plot:\n",
    "        _name = names[name]\n",
    "        if add_device:\n",
    "            _name+= \" (CPU)\" if \"cpu\" in result else \" (GPU)\"\n",
    "            linestyle = \"-\" if \"cpu\" in result else \"--\"\n",
    "        else:\n",
    "            linestyle = \"-\"\n",
    "        set_scale = False\n",
    "        if scale_setter == name:\n",
    "            print(name)\n",
    "            set_scale = True\n",
    "        plot_result(result, colors[name], _name, linestyle, set_scale=set_scale)\n",
    "\n",
    "    plt.legend(loc='upper right', bbox_to_anchor=(1, 1.3), ncol=2)\n",
    "    plt.xlabel(\"Roundtrip delay (ms)\")\n",
    "    plt.ylabel(\"Total inference time (s)\")\n",
    "    # plt.savefig(plot_path, bbox_inches=Bbox([[-1,-3],[-1,-3]]))\n",
    "    plt.savefig(plot_path, bbox_inches=\"tight\")\n",
    "    plt.show()\n",
    "    plt.clf()\n",
    "def get_all_results(model):\n",
    "    results = [f\"{model}/{x}\" for x in os.listdir(model) if x.endswith(\"result.yaml\")]\n",
    "    return results\n",
    "def plot_model(model_path, reject=None, add_device=False):\n",
    "    results = get_all_results(model_path)\n",
    "    plot_name = \"_\".join(model_path.split('/')[-2:])\n",
    "    plot_name = plot_name[:-2] if plot_name[-2:] == \":0\" else plot_name\n",
    "    plot_results(results, f\"../plots/{plot_name}.pdf\", reject=reject, add_device=add_device, scale_setter=\"default12\")"
   ],
   "metadata": {
    "collapsed": false
   }
  },
  {
   "cell_type": "code",
   "execution_count": 206,
   "outputs": [],
   "source": [
    "models = {}\n",
    "for dataset in datasets:\n",
    "    models[dataset] = [f\"../results/{dataset}/{model}\" for model in os.listdir(f\"../results/{dataset}\")]\n",
    "print(models)"
   ],
   "metadata": {
    "collapsed": false
   }
  },
  {
   "cell_type": "code",
   "execution_count": 208,
   "outputs": [],
   "source": [
    "for dataset in datasets:\n",
    "    for model in models[dataset]:\n",
    "        plot_model(model , reject=['crypten12'], add_device=False)"
   ],
   "metadata": {
    "collapsed": false
   }
  },
  {
   "cell_type": "code",
   "execution_count": null,
   "outputs": [],
   "source": [
    "for model in models[\"relus\"]:\n",
    "    plot_model(model , add_device=False)"
   ],
   "metadata": {
    "collapsed": false
   }
  },
  {
   "cell_type": "code",
   "execution_count": 209,
   "outputs": [],
   "source": [
    "# model_path = models[\"relus\"][1]\n",
    "# results = get_all_results(model_path)\n",
    "# plot_name = \"_\".join(model_path.split('/')[-2:])\n",
    "# plot_name = plot_name[:-2] if plot_name[-2:] == \":0\" else plot_name\n",
    "# plot_results(results, f\"../plots/relu.pdf\",add_device=False, scale_setter=\"default12\")"
   ],
   "metadata": {
    "collapsed": false
   }
  },
  {
   "cell_type": "code",
   "execution_count": 210,
   "outputs": [],
   "source": [
    "# results = get_all_results(models['cifar10'][1])+get_all_results(models['cifar10'][2])+[get_all_results(models['cifar10'][5])[1]]\n",
    "# labels = [\"maxpool\",\"gforce_max\",  \"avgpool\", \"gforce_avg\"]\n",
    "# color_vals = list(colors.values())\n",
    "# for i, result in enumerate(results):\n",
    "#     plot_result(result, color_vals[i], labels[i])\n",
    "# plt.legend()\n",
    "# plt.xlabel(\"Artificial roundtrip delay in ms\")\n",
    "# plt.ylabel(\"Total inference runtime in seconds\")\n",
    "# plt.savefig(\"vgg16.png\")"
   ],
   "metadata": {
    "collapsed": false
   }
  }
 ],
 "metadata": {
  "kernelspec": {
   "display_name": "Python 3",
   "language": "python",
   "name": "python3"
  },
  "language_info": {
   "codemirror_mode": {
    "name": "ipython",
    "version": 2
   },
   "file_extension": ".py",
   "mimetype": "text/x-python",
   "name": "python",
   "nbconvert_exporter": "python",
   "pygments_lexer": "ipython2",
   "version": "2.7.6"
  }
 },
 "nbformat": 4,
 "nbformat_minor": 0
}
