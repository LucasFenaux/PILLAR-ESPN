{
 "cells": [
  {
   "cell_type": "code",
   "execution_count": null,
   "metadata": {
    "collapsed": true,
    "pycharm": {
     "name": "#%%\n"
    }
   },
   "outputs": [],
   "source": [
    "%load_ext autoreload\n",
    "%autoreload 2\n",
    "%cd ..\n",
    "%pwd\n",
    "\n",
    "import torch\n",
    "from train import load_cifar_data, get_args_parser\n",
    "\n",
    "# device = torch.device(\"cpu\")\n",
    "\n",
    "device = torch.device(\"cuda\")\n",
    "\n",
    "\n",
    "args = get_args_parser().parse_args([])\n",
    "\n",
    "args.distributed = False\n",
    "args.dataset = \"cifar10\"\n",
    "args.data_path = \"./data/\"\n",
    "args.batch_size = 128\n",
    "args.device = device\n",
    "\n",
    "_, dataset_test, _, test_sampler = load_cifar_data(args)\n",
    "\n",
    "num_classes = len(dataset_test.classes)\n",
    "\n",
    "data_loader_test = torch.utils.data.DataLoader(\n",
    "    dataset_test, batch_size=args.batch_size, sampler=test_sampler, num_workers=args.workers, pin_memory=True\n",
    ")\n"
   ]
  },
  {
   "cell_type": "code",
   "execution_count": 2,
   "outputs": [],
   "source": [
    "\n",
    "import numpy as np\n",
    "import scipy.stats\n",
    "\n",
    "#https://stackoverflow.com/questions/15033511/compute-a-confidence-interval-from-sample-data\n",
    "def mean_confidence_interval(data, confidence=0.95):\n",
    "    a = 1.0 * np.array(data)\n",
    "    n = len(a)\n",
    "    m, se = np.mean(a), scipy.stats.sem(a)\n",
    "    h = se * scipy.stats.t.ppf((1 + confidence) / 2., n - 1)\n",
    "    return m, m - h, m + h\n",
    "\n",
    "def set_dict_entry(dictionary, keys, value):\n",
    "    for key in keys[:-1]:\n",
    "        dictionary = dictionary.setdefault(key, {})\n",
    "    dictionary[keys[-1]] = value\n",
    "\n",
    "def dict_iterator(dictionary, keys=None):\n",
    "    if keys is None:\n",
    "        keys = []\n",
    "    for key, value in dictionary.items():\n",
    "        new_keys = keys + [key]\n",
    "        if isinstance(value, dict):\n",
    "            for pair in dict_iterator(value, keys=new_keys):\n",
    "                yield pair\n",
    "        else:\n",
    "            yield [new_keys, value]\n",
    "\n",
    "def get_CI(dictionary):\n",
    "    to_return = {}\n",
    "    for val in dict_iterator(dictionary):\n",
    "        utilities = val[1]\n",
    "        set_dict_entry(to_return, val[0], mean_confidence_interval(utilities))\n",
    "    return to_return"
   ],
   "metadata": {
    "collapsed": false,
    "pycharm": {
     "name": "#%%\n"
    }
   }
  },
  {
   "cell_type": "code",
   "execution_count": null,
   "outputs": [],
   "source": [
    "degrees = []\n",
    "death_epochs = {}\n",
    "accuracies = {}\n",
    "mean = []\n",
    "lower = []\n",
    "upper = []\n",
    "degree = 2\n",
    "num_models = 3\n",
    "\n",
    "# first line 1 models\n",
    "while True:\n",
    "    try:\n",
    "\n",
    "        death_epochs[degree] = []\n",
    "        accuracies[degree] = []\n",
    "        for i in range(1, num_models+1):\n",
    "\n",
    "            output_dir = f\"./experiments/figure_1/line_1/convnet_pr_degree_{degree}_{i}/\"  # replace it with whatever you set as output directory\n",
    "            print(output_dir)\n",
    "            # we now load the checkpoint\n",
    "            last_checkpoint = torch.load(output_dir+\"checkpoint.pth\", map_location=\"cpu\")\n",
    "            best_checkpoint = torch.load(output_dir+\"best_model.pth\", map_location=\"cpu\")\n",
    "\n",
    "            death_epochs[degree].append(last_checkpoint[\"epoch\"])\n",
    "            accuracies[degree].append(best_checkpoint[\"best_acc\"])\n",
    "\n",
    "        m, l, u = mean_confidence_interval(accuracies[degree])\n",
    "        mean.append(m)\n",
    "        lower.append(l)\n",
    "        upper.append(u)\n",
    "        degrees.append(degree)\n",
    "        degree += 1\n",
    "\n",
    "    except FileNotFoundError:\n",
    "        break\n",
    "\n"
   ],
   "metadata": {
    "collapsed": false,
    "pycharm": {
     "name": "#%%\n"
    }
   }
  },
  {
   "cell_type": "code",
   "execution_count": null,
   "outputs": [],
   "source": [
    "import matplotlib.pyplot as plt\n",
    "\n",
    "plt.rcParams['pdf.fonttype'] = 42\n",
    "plt.rcParams['ps.fonttype'] = 42\n",
    "plt.rcParams.update({'font.size': 18})\n",
    "color = \"#e66101\"\n",
    "plt.plot(degrees, mean, label=\"before\", color=color)\n",
    "plt.fill_between(degrees, lower, upper, alpha=0.3, color=color)\n"
   ],
   "metadata": {
    "collapsed": false,
    "pycharm": {
     "name": "#%%\n"
    }
   }
  },
  {
   "cell_type": "code",
   "execution_count": null,
   "outputs": [],
   "source": [
    "degrees = []\n",
    "mean_accuracies = {}\n",
    "lower_accuracies = {}\n",
    "upper_accuracies = {}\n",
    "\n",
    "best_accuracy_index = []\n",
    "best_mean = []\n",
    "best_lower = []\n",
    "best_upper = []\n",
    "degree = 2\n",
    "\n",
    "reg_coeffs = (0.1, 0.01, 0.001, 0.0001, 0.00001, 0.000001, 0.0000001, 0.00000001)\n",
    "\n",
    "done = False\n",
    "\n",
    "while not done:\n",
    "    mean_accuracies[degree] = []\n",
    "    lower_accuracies[degree] = []\n",
    "    upper_accuracies[degree] = []\n",
    "\n",
    "    reg_coef_list = []\n",
    "\n",
    "    for i, reg_coef in enumerate(reg_coeffs):\n",
    "        accuracies = []\n",
    "\n",
    "        for i in range(1, num_models+1):\n",
    "            if reg_coef != 0.1:\n",
    "                str_reg_coef = (\"%.17f\" % reg_coef).rstrip('0').rstrip('.')\n",
    "            else:\n",
    "                str_reg_coef = str(reg_coef)\n",
    "            output_dir = f\"experiments/experiment_4/convnet_pr_degree_{degree}_reg_coef_{str_reg_coef}_{i}/\"  # replace it with whatever you set as output directory\n",
    "            print(output_dir)\n",
    "            try:\n",
    "                # we now load the checkpoint\n",
    "                best_checkpoint = torch.load(output_dir+\"best_model.pth\", map_location=\"cpu\")\n",
    "            except FileNotFoundError:\n",
    "                done = True\n",
    "                break\n",
    "\n",
    "            accuracies.append(best_checkpoint[\"best_acc\"])\n",
    "            reg_coef_list.append(reg_coef)\n",
    "\n",
    "        m, l, u = mean_confidence_interval(accuracies)\n",
    "        mean_accuracies[degree].append(m)\n",
    "        lower_accuracies[degree].append(l)\n",
    "        upper_accuracies[degree].append(u)\n",
    "    idx = np.argmax(mean_accuracies[degree])\n",
    "    best_accuracy_index.append(idx)\n",
    "    best_mean.append(mean_accuracies[degree][idx])\n",
    "    best_lower.append(lower_accuracies[degree][idx])\n",
    "    best_upper.append(upper_accuracies[degree][idx])\n",
    "    degrees.append(degree)\n",
    "\n",
    "    # done = not True in found\n",
    "    if not done:\n",
    "        degree += 1"
   ],
   "metadata": {
    "collapsed": false,
    "pycharm": {
     "name": "#%%\n"
    }
   }
  },
  {
   "cell_type": "code",
   "execution_count": null,
   "outputs": [],
   "source": [
    "print(degrees)\n",
    "print(mean)\n",
    "print(best_mean)\n",
    "while len(degrees) > len(mean):\n",
    "    mean.append(0.)\n",
    "    lower.append(0.)\n",
    "    upper.append(0.)\n",
    "\n",
    "plt.plot(degrees, mean, label=\"unmodified training\", color=\"#e66101\")\n",
    "plt.fill_between(degrees, lower, upper, alpha=0.3, color=\"#e66101\")\n",
    "plt.plot(degrees, best_mean, label=\"our training\", color=\"#5e3c99\")\n",
    "plt.fill_between(degrees, best_lower, best_upper, alpha=0.3, color=\"#5e3c99\")\n",
    "plt.xlabel(\"Polynomial Approximation Degree\")\n",
    "plt.ylabel(\"Test Accuracy (%)\")\n",
    "plt.tight_layout()\n",
    "plt.legend(loc=\"upper right\", bbox_to_anchor=(1.025, 1.2), ncol=2)\n",
    "plt.plot()\n",
    "plt.savefig('figure_1.pdf', bbox_inches='tight')\n",
    "plt.show()\n",
    "plt.clf()"
   ],
   "metadata": {
    "collapsed": false,
    "pycharm": {
     "name": "#%%\n"
    }
   }
  },
  {
   "cell_type": "code",
   "execution_count": null,
   "outputs": [],
   "source": [],
   "metadata": {
    "collapsed": false,
    "pycharm": {
     "name": "#%%\n"
    }
   }
  }
 ],
 "metadata": {
  "kernelspec": {
   "display_name": "Python 3",
   "language": "python",
   "name": "python3"
  },
  "language_info": {
   "codemirror_mode": {
    "name": "ipython",
    "version": 2
   },
   "file_extension": ".py",
   "mimetype": "text/x-python",
   "name": "python",
   "nbconvert_exporter": "python",
   "pygments_lexer": "ipython2",
   "version": "2.7.6"
  }
 },
 "nbformat": 4,
 "nbformat_minor": 0
}
